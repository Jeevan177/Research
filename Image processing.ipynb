{
 "cells": [
  {
   "cell_type": "code",
   "execution_count": 1,
   "id": "88dad602",
   "metadata": {},
   "outputs": [],
   "source": [
    "import pandas as pd\n",
    "import numpy as np\n",
    "import matplotlib.pyplot as plt\n",
    "import seaborn as sns\n",
    "from PIL import Image, ImageFilter, ImageStat\n",
    "from numpy import asarray"
   ]
  },
  {
   "cell_type": "code",
   "execution_count": 2,
   "id": "a366aa13",
   "metadata": {},
   "outputs": [],
   "source": [
    "#Image = Image.open('Image.jpg')C:\\\\Users\\\\Jeevan kishore\\\\OneDrive\\\\Desktop\\\\Sem 2\\\\Research\\\\Input\\\\test1."
   ]
  },
  {
   "cell_type": "code",
   "execution_count": 3,
   "id": "e5122728",
   "metadata": {},
   "outputs": [],
   "source": [
    "I2 = Image.open('C:\\\\Users\\\\Jeevan kishore\\\\OneDrive\\\\Desktop\\\\Sem 2\\\\Research\\\\Input\\\\test3.jpg')"
   ]
  },
  {
   "cell_type": "code",
   "execution_count": 4,
   "id": "7f922efb",
   "metadata": {},
   "outputs": [],
   "source": [
    "I2.show()"
   ]
  },
  {
   "cell_type": "code",
   "execution_count": 5,
   "id": "0266962d",
   "metadata": {},
   "outputs": [],
   "source": [
    "hsv_Image = I2.convert(\"HSV\")"
   ]
  },
  {
   "cell_type": "code",
   "execution_count": 6,
   "id": "2eb83387",
   "metadata": {},
   "outputs": [],
   "source": [
    "h,s,v = hsv_Image.split()"
   ]
  },
  {
   "cell_type": "code",
   "execution_count": 7,
   "id": "8f3ce508",
   "metadata": {},
   "outputs": [],
   "source": [
    "H = asarray(h)"
   ]
  },
  {
   "cell_type": "code",
   "execution_count": 8,
   "id": "3068c79c",
   "metadata": {},
   "outputs": [
    {
     "data": {
      "text/plain": [
       "array([[0, 0, 0, ..., 0, 0, 0],\n",
       "       [0, 0, 0, ..., 0, 0, 0],\n",
       "       [0, 0, 0, ..., 0, 0, 0],\n",
       "       ...,\n",
       "       [0, 0, 0, ..., 0, 0, 0],\n",
       "       [0, 0, 0, ..., 0, 0, 0],\n",
       "       [0, 0, 0, ..., 0, 0, 0]], dtype=uint8)"
      ]
     },
     "execution_count": 8,
     "metadata": {},
     "output_type": "execute_result"
    }
   ],
   "source": [
    "H"
   ]
  },
  {
   "cell_type": "code",
   "execution_count": null,
   "id": "a371eb9f",
   "metadata": {},
   "outputs": [],
   "source": []
  },
  {
   "cell_type": "code",
   "execution_count": 9,
   "id": "cf78a5a1",
   "metadata": {},
   "outputs": [
    {
     "name": "stdout",
     "output_type": "stream",
     "text": [
      "180\n"
     ]
    }
   ],
   "source": [
    "print(len(H))"
   ]
  },
  {
   "cell_type": "code",
   "execution_count": null,
   "id": "172c4393",
   "metadata": {},
   "outputs": [],
   "source": [
    "#Red falls between 0 and 60 degrees.\n",
    "#Yellow falls between 61 and 120 degrees.\n",
    "#Green falls between 121 and 180 degrees.\n",
    "#Cyan falls between 181 and 240 degrees.\n",
    "#Blue falls between 241 and 300 degrees.\n",
    "#Magenta falls between 301 and 360 degrees."
   ]
  },
  {
   "cell_type": "code",
   "execution_count": null,
   "id": "a494c368",
   "metadata": {},
   "outputs": [],
   "source": []
  },
  {
   "cell_type": "code",
   "execution_count": null,
   "id": "c5530405",
   "metadata": {},
   "outputs": [],
   "source": [
    "print(len(H))"
   ]
  },
  {
   "cell_type": "code",
   "execution_count": null,
   "id": "8c3a610a",
   "metadata": {},
   "outputs": [],
   "source": [
    "Red = []\n",
    "for j in range(len(H)):    \n",
    "    for i in H[j]:\n",
    "        if i>=0 and i<=60:\n",
    "            Red.append(i)\n",
    "        \n",
    "    "
   ]
  },
  {
   "cell_type": "code",
   "execution_count": null,
   "id": "716907e3",
   "metadata": {},
   "outputs": [],
   "source": [
    "print(Red)"
   ]
  },
  {
   "cell_type": "code",
   "execution_count": null,
   "id": "2db448fe",
   "metadata": {},
   "outputs": [],
   "source": [
    "print(len(Red))"
   ]
  },
  {
   "cell_type": "code",
   "execution_count": null,
   "id": "e1ef77ee",
   "metadata": {},
   "outputs": [],
   "source": [
    "Yellow = []\n",
    "for j in range(len(H)):    \n",
    "    for i in H[j]:\n",
    "        if i>=61 and i<=120:\n",
    "            Yellow.append(i)\n"
   ]
  },
  {
   "cell_type": "code",
   "execution_count": null,
   "id": "53b3d8c2",
   "metadata": {},
   "outputs": [],
   "source": [
    "print(Yellow)"
   ]
  },
  {
   "cell_type": "code",
   "execution_count": null,
   "id": "e4713fbf",
   "metadata": {},
   "outputs": [],
   "source": [
    "len(Yellow)"
   ]
  },
  {
   "cell_type": "code",
   "execution_count": null,
   "id": "0b0edccb",
   "metadata": {},
   "outputs": [],
   "source": [
    "Green = []\n",
    "for j in range(len(H)):    \n",
    "    for i in H[j]:\n",
    "        if i>=121 and i<=180:\n",
    "            Green.append(i)\n"
   ]
  },
  {
   "cell_type": "code",
   "execution_count": null,
   "id": "a29c9c84",
   "metadata": {},
   "outputs": [],
   "source": [
    "print(Green)"
   ]
  },
  {
   "cell_type": "code",
   "execution_count": null,
   "id": "91716d5d",
   "metadata": {},
   "outputs": [],
   "source": [
    "len(Green)"
   ]
  },
  {
   "cell_type": "code",
   "execution_count": null,
   "id": "f63b72a5",
   "metadata": {},
   "outputs": [],
   "source": [
    "Cyan = []\n",
    "for j in range(len(H)):    \n",
    "    for i in H[j]:\n",
    "        if i>=181 and i<=240:\n",
    "            Cyan.append(i)\n"
   ]
  },
  {
   "cell_type": "code",
   "execution_count": null,
   "id": "d46abb67",
   "metadata": {},
   "outputs": [],
   "source": [
    "print(Cyan)"
   ]
  },
  {
   "cell_type": "code",
   "execution_count": null,
   "id": "c316f598",
   "metadata": {},
   "outputs": [],
   "source": [
    "len(Cyan)"
   ]
  },
  {
   "cell_type": "code",
   "execution_count": null,
   "id": "e252222d",
   "metadata": {},
   "outputs": [],
   "source": [
    "Blue = []\n",
    "for j in range(len(H)):    \n",
    "    for i in H[j]:\n",
    "        if i>=241 and i<=300:\n",
    "            Blue.append(i)\n"
   ]
  },
  {
   "cell_type": "code",
   "execution_count": null,
   "id": "939e87ce",
   "metadata": {},
   "outputs": [],
   "source": [
    "print(Blue)"
   ]
  },
  {
   "cell_type": "code",
   "execution_count": null,
   "id": "61d67bce",
   "metadata": {},
   "outputs": [],
   "source": [
    "len(Blue)"
   ]
  },
  {
   "cell_type": "code",
   "execution_count": null,
   "id": "456eb073",
   "metadata": {},
   "outputs": [],
   "source": [
    "Magneto = []\n",
    "for j in range(len(H)):    \n",
    "    for i in H[j]:\n",
    "        if i>=301 and i<=360:\n",
    "            magneto.append(i)\n"
   ]
  },
  {
   "cell_type": "code",
   "execution_count": null,
   "id": "14777524",
   "metadata": {},
   "outputs": [],
   "source": [
    "print(Magneto)"
   ]
  },
  {
   "cell_type": "code",
   "execution_count": null,
   "id": "f1d7d7c3",
   "metadata": {},
   "outputs": [],
   "source": [
    "#Red falls between 0 and 60 degrees.\n",
    "#Yellow falls between 61 and 120 degrees.\n",
    "#Green falls between 121 and 180 degrees.\n",
    "#Cyan falls between 181 and 240 degrees.\n",
    "#Blue falls between 241 and 300 degrees.\n",
    "#Magenta falls between 301 and 360 degrees."
   ]
  },
  {
   "cell_type": "code",
   "execution_count": 39,
   "id": "650004a4",
   "metadata": {},
   "outputs": [
    {
     "data": {
      "text/plain": [
       "[0, 0, 0, 0, 108000, 0]"
      ]
     },
     "execution_count": 39,
     "metadata": {},
     "output_type": "execute_result"
    }
   ],
   "source": [
    "\n",
    "bucket=[0,0,0,0,0,0]\n",
    "for j in range(len(H)):    \n",
    "    for i in H[j]:\n",
    "        if i>=0 and i<=60:\n",
    "            bucket[0]=bucket[0]+1\n",
    "        elif i>=61 and i<=120:\n",
    "            bucket[1]=bucket[1]+1\n",
    "        elif i>=121 and i<=180:\n",
    "            bucket[2]=bucket[2]+1\n",
    "        elif i>=181 and i<=240:\n",
    "            bucket[3]=bucket[3]+1\n",
    "        elif i>=241 and i<=300:\n",
    "            bucket[4]=bucket[4]+1\n",
    "        elif i>=301 and i<=360:\n",
    "            bucket[5]=bucket[5]+1\n",
    "bucket\n",
    "\n"
   ]
  },
  {
   "cell_type": "code",
   "execution_count": 18,
   "id": "8fa56fb5",
   "metadata": {},
   "outputs": [],
   "source": [
    "f=open(\"C:/Users/Jeevan kishore/OneDrive/Desktop/Sem 2/Research/Run/bucket.csv\",'a+')\n",
    "f.write(str(bucket))\n",
    "f.close()"
   ]
  },
  {
   "cell_type": "code",
   "execution_count": null,
   "id": "e0e290ab",
   "metadata": {},
   "outputs": [],
   "source": [
    "red="
   ]
  },
  {
   "cell_type": "code",
   "execution_count": 69,
   "id": "eb1005c2",
   "metadata": {},
   "outputs": [
    {
     "data": {
      "text/plain": [
       "[0, 0, 108000, 0, 0, 0]"
      ]
     },
     "execution_count": 69,
     "metadata": {},
     "output_type": "execute_result"
    }
   ],
   "source": [
    "\n",
    "bucket=[0,0,0,0,0,0]\n",
    "for j in range(len(H)):    \n",
    "    for i in H[j]:\n",
    "        if i>=0 and i<=43:\n",
    "            bucket[0]=bucket[0]+1\n",
    "        elif i>=44 and i<=86:\n",
    "            bucket[1]=bucket[1]+1\n",
    "        elif i>=87 and i<=130:\n",
    "            bucket[2]=bucket[2]+1\n",
    "        elif i>=131 and i<=174:\n",
    "            bucket[3]=bucket[3]+1\n",
    "        elif i>=175 and i<=218:\n",
    "            bucket[4]=bucket[4]+1\n",
    "        elif i>=219 and i<=255:\n",
    "            bucket[5]=bucket[5]+1\n",
    "bucket\n",
    "\n"
   ]
  },
  {
   "cell_type": "code",
   "execution_count": null,
   "id": "c76a1e24",
   "metadata": {},
   "outputs": [],
   "source": []
  }
 ],
 "metadata": {
  "kernelspec": {
   "display_name": "Python 3 (ipykernel)",
   "language": "python",
   "name": "python3"
  },
  "language_info": {
   "codemirror_mode": {
    "name": "ipython",
    "version": 3
   },
   "file_extension": ".py",
   "mimetype": "text/x-python",
   "name": "python",
   "nbconvert_exporter": "python",
   "pygments_lexer": "ipython3",
   "version": "3.11.1"
  }
 },
 "nbformat": 4,
 "nbformat_minor": 5
}
