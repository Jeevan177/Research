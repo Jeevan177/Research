{
 "cells": [
  {
   "cell_type": "code",
   "execution_count": 2,
   "metadata": {},
   "outputs": [],
   "source": [
    "import os\n",
    "from PIL import Image\n",
    "import numpy as np\n",
    "import csv"
   ]
  },
  {
   "cell_type": "code",
   "execution_count": 3,
   "metadata": {},
   "outputs": [
    {
     "data": {
      "text/plain": [
       "'c:\\\\Users\\\\POOSHAN CHATTERJEE\\\\Documents\\\\MSc Data Science\\\\Research\\\\codes'"
      ]
     },
     "execution_count": 3,
     "metadata": {},
     "output_type": "execute_result"
    }
   ],
   "source": [
    "os.getcwd()"
   ]
  },
  {
   "cell_type": "markdown",
   "metadata": {},
   "source": [
    "# HSV Split"
   ]
  },
  {
   "cell_type": "code",
   "execution_count": null,
   "metadata": {},
   "outputs": [],
   "source": [
    "#Red falls between 0 and 60 degrees.\n",
    "#Yellow falls between 61 and 120 degrees.\n",
    "#Green falls between 121 and 180 degrees.\n",
    "#Cyan falls between 181 and 240 degrees.\n",
    "#Blue falls between 241 and 300 degrees.\n",
    "#Magenta falls between 301 and 360 degrees."
   ]
  },
  {
   "cell_type": "code",
   "execution_count": null,
   "metadata": {},
   "outputs": [],
   "source": [
    "image_h=[]\n",
    "image_s=[]\n",
    "image_v=[]\n",
    "\n",
    "for images in os.listdir(image_dir_path):\n",
    "    if images.endswith(\".png\") or images.endswith(\".jpg\") or images.endswith(\".jpeg\"):\n",
    "        img = Image.open(image_dir_path+images)\n",
    "        #img.show()\n",
    "        hsv_Image = img.convert(\"HSV\")\n",
    "        h,s,v = hsv_Image.split()\n",
    "        \n",
    "        H = asarray(h)\n",
    "        S = asarray(s)\n",
    "        V = asarray(v)\n",
    "        \n",
    "        h_bucket=[0,0,0,0,0,0,0,0,0]\n",
    "        s_bucket=[0,0,0,0,0,0]\n",
    "        v_bucket=[0,0,0,0,0,0]\n",
    "        \n",
    "        \n",
    "        for j in range(len(H)):    \n",
    "            for i in H[j]:\n",
    "                if i>=0 and i<=11:\n",
    "                    h_bucket[0]=h_bucket[0]+1\n",
    "                elif i<=22:\n",
    "                    h_bucket[1]=h_bucket[1]+1\n",
    "                elif i<=33:\n",
    "                    h_bucket[2]=h_bucket[2]+1\n",
    "                elif i<=44:\n",
    "                    h_bucket[3]=h_bucket[3]+1                    \n",
    "                elif i<=86:\n",
    "                    h_bucket[4]=h_bucket[4]+1\n",
    "                elif i<=130:\n",
    "                    h_bucket[5]=h_bucket[5]+1\n",
    "                elif i<=174:\n",
    "                    h_bucket[6]=h_bucket[6]+1\n",
    "                elif i<=218:\n",
    "                    h_bucket[7]=h_bucket[7]+1\n",
    "                elif i<=255:\n",
    "                    h_bucket[8]=h_bucket[8]+1\n",
    "                    \n",
    "       # print(h_bucket)\n",
    "        image_h.append(h_bucket)\n",
    "        \n",
    "        for j in range(len(S)):    \n",
    "            for i in S[j]:\n",
    "                if i>=0 and i<=43:\n",
    "                    s_bucket[0]=s_bucket[0]+1\n",
    "                elif i>=44 and i<=86:\n",
    "                    s_bucket[1]=s_bucket[1]+1\n",
    "                elif i>=87 and i<=130:\n",
    "                    s_bucket[2]=s_bucket[2]+1\n",
    "                elif i>=131 and i<=174:\n",
    "                    s_bucket[3]=s_bucket[3]+1\n",
    "                elif i>=175 and i<=218:\n",
    "                    s_bucket[4]=s_bucket[4]+1\n",
    "                elif i>=219 and i<=255:\n",
    "                    s_bucket[5]=s_bucket[5]+1\n",
    "                    \n",
    "        #print(s_bucket)\n",
    "        image_s.append(s_bucket) \n",
    "        \n",
    "        for j in range(len(V)):\n",
    "            for i in V[j]:\n",
    "                if i>=0 and i<=43:\n",
    "                    v_bucket[0]=v_bucket[0]+1\n",
    "                elif i>=44 and i<=86:\n",
    "                    v_bucket[1]=v_bucket[1]+1\n",
    "                elif i>=87 and i<=130:\n",
    "                    v_bucket[2]=v_bucket[2]+1\n",
    "                elif i>=131 and i<=174:\n",
    "                    v_bucket[3]=v_bucket[3]+1\n",
    "                elif i>=175 and i<=218:\n",
    "                    v_bucket[4]=v_bucket[4]+1\n",
    "                elif i>=219 and i<=255:\n",
    "                    v_bucket[5]=v_bucket[5]+1\n",
    "                    \n",
    "        #print(v_bucket)\n",
    "        image_v.append(v_bucket)\n",
    "        "
   ]
  },
  {
   "cell_type": "markdown",
   "metadata": {},
   "source": [
    "# File Saving"
   ]
  },
  {
   "cell_type": "code",
   "execution_count": null,
   "metadata": {},
   "outputs": [],
   "source": [
    "# Combine the three lists into a list of tuples\n",
    "data = list(zip(image_names,image_h, image_s, image_v))\n",
    "print(data)\n",
    "\n",
    "# Specify the CSV file path\n",
    "csv_file_path = \"C:\\\\Users\\\\Jeevan kishore\\\\OneDrive\\\\Desktop\\\\Research\\\\image_data.csv\"\n",
    "\n",
    "# Open the CSV file for writing\n",
    "with open(csv_file_path, 'w', newline='') as csvfile:\n",
    "    # Create a CSV writer\n",
    "    csv_writer = csv.writer(csvfile)\n",
    "\n",
    "    # Write a header row (optional, but useful for labeling the columns)\n",
    "    csv_writer.writerow([\"File_Name\", \"H_Value\", \"S_Value\", \"V_Value\"])\n",
    "\n",
    "    # Write the data rows\n",
    "    csv_writer.writerows(data)\n",
    "\n",
    "print(f\"Data has been saved to {csv_file_path}\")"
   ]
  },
  {
   "cell_type": "markdown",
   "metadata": {},
   "source": []
  },
  {
   "cell_type": "code",
   "execution_count": null,
   "metadata": {},
   "outputs": [],
   "source": []
  },
  {
   "cell_type": "code",
   "execution_count": null,
   "metadata": {},
   "outputs": [],
   "source": []
  }
 ],
 "metadata": {
  "kernelspec": {
   "display_name": "base",
   "language": "python",
   "name": "python3"
  },
  "language_info": {
   "codemirror_mode": {
    "name": "ipython",
    "version": 3
   },
   "file_extension": ".py",
   "mimetype": "text/x-python",
   "name": "python",
   "nbconvert_exporter": "python",
   "pygments_lexer": "ipython3",
   "version": "3.9.16"
  }
 },
 "nbformat": 4,
 "nbformat_minor": 2
}
